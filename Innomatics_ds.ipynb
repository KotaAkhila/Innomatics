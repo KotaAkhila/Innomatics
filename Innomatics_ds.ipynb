{
 "cells": [
  {
   "cell_type": "code",
   "execution_count": 2,
   "id": "78e2062a",
   "metadata": {},
   "outputs": [
    {
     "name": "stdout",
     "output_type": "stream",
     "text": [
      "(100836, 4)\n"
     ]
    }
   ],
   "source": [
    "import pandas as pd\n",
    "import io\n",
    "ratings_df = pd.read_csv(\"ratings.csv\")\n",
    "print(ratings_df.shape)"
   ]
  },
  {
   "cell_type": "code",
   "execution_count": 3,
   "id": "4543d975",
   "metadata": {},
   "outputs": [
    {
     "name": "stdout",
     "output_type": "stream",
     "text": [
      "(9742, 3)\n"
     ]
    }
   ],
   "source": [
    "import pandas as pd\n",
    "import io\n",
    "movies_df = pd.read_csv('movies.csv')\n",
    "print(movies_df.shape)"
   ]
  },
  {
   "cell_type": "code",
   "execution_count": 4,
   "id": "aec84ded",
   "metadata": {},
   "outputs": [
    {
     "data": {
      "text/html": [
       "<div>\n",
       "<style scoped>\n",
       "    .dataframe tbody tr th:only-of-type {\n",
       "        vertical-align: middle;\n",
       "    }\n",
       "\n",
       "    .dataframe tbody tr th {\n",
       "        vertical-align: top;\n",
       "    }\n",
       "\n",
       "    .dataframe thead th {\n",
       "        text-align: right;\n",
       "    }\n",
       "</style>\n",
       "<table border=\"1\" class=\"dataframe\">\n",
       "  <thead>\n",
       "    <tr style=\"text-align: right;\">\n",
       "      <th></th>\n",
       "      <th>userId</th>\n",
       "      <th>movieId</th>\n",
       "      <th>rating</th>\n",
       "      <th>timestamp</th>\n",
       "    </tr>\n",
       "  </thead>\n",
       "  <tbody>\n",
       "    <tr>\n",
       "      <th>0</th>\n",
       "      <td>1</td>\n",
       "      <td>1</td>\n",
       "      <td>4.0</td>\n",
       "      <td>964982703</td>\n",
       "    </tr>\n",
       "    <tr>\n",
       "      <th>1</th>\n",
       "      <td>1</td>\n",
       "      <td>3</td>\n",
       "      <td>4.0</td>\n",
       "      <td>964981247</td>\n",
       "    </tr>\n",
       "    <tr>\n",
       "      <th>2</th>\n",
       "      <td>1</td>\n",
       "      <td>6</td>\n",
       "      <td>4.0</td>\n",
       "      <td>964982224</td>\n",
       "    </tr>\n",
       "    <tr>\n",
       "      <th>3</th>\n",
       "      <td>1</td>\n",
       "      <td>47</td>\n",
       "      <td>5.0</td>\n",
       "      <td>964983815</td>\n",
       "    </tr>\n",
       "    <tr>\n",
       "      <th>4</th>\n",
       "      <td>1</td>\n",
       "      <td>50</td>\n",
       "      <td>5.0</td>\n",
       "      <td>964982931</td>\n",
       "    </tr>\n",
       "  </tbody>\n",
       "</table>\n",
       "</div>"
      ],
      "text/plain": [
       "   userId  movieId  rating  timestamp\n",
       "0       1        1     4.0  964982703\n",
       "1       1        3     4.0  964981247\n",
       "2       1        6     4.0  964982224\n",
       "3       1       47     5.0  964983815\n",
       "4       1       50     5.0  964982931"
      ]
     },
     "execution_count": 4,
     "metadata": {},
     "output_type": "execute_result"
    }
   ],
   "source": [
    "ratings_df.head()"
   ]
  },
  {
   "cell_type": "code",
   "execution_count": 5,
   "id": "7e8ebc96",
   "metadata": {},
   "outputs": [
    {
     "name": "stdout",
     "output_type": "stream",
     "text": [
      "610\n"
     ]
    }
   ],
   "source": [
    "unique_user_ids = ratings_df['userId'].nunique()\n",
    "print(unique_user_ids)"
   ]
  },
  {
   "cell_type": "code",
   "execution_count": 6,
   "id": "da4228ee",
   "metadata": {},
   "outputs": [
    {
     "name": "stdout",
     "output_type": "stream",
     "text": [
      "{'Forrest Gump (1994)'}\n"
     ]
    }
   ],
   "source": [
    "merged_df = pd.merge(ratings_df, movies_df, on='movieId')\n",
    "\n",
    "movie_ratings_count = merged_df.groupby('movieId')['rating'].count()\n",
    "\n",
    "max_rated_movie_id = movie_ratings_count.idxmax()\n",
    "\n",
    "max_rated_movie_title = movies_df[movies_df['movieId'] == max_rated_movie_id]['title'].iloc[0]\n",
    "\n",
    "print({max_rated_movie_title})"
   ]
  },
  {
   "cell_type": "code",
   "execution_count": 7,
   "id": "599df485",
   "metadata": {},
   "outputs": [
    {
     "name": "stdout",
     "output_type": "stream",
     "text": [
      "[]\n"
     ]
    },
    {
     "name": "stderr",
     "output_type": "stream",
     "text": [
      "C:\\Users\\akhila\\AppData\\Local\\Temp\\ipykernel_18040\\2604976147.py:1: UserWarning: This pattern is interpreted as a regular expression, and has match groups. To actually get the groups, use str.extract.\n",
      "  matrix_movie_id = movies_df[movies_df['title'].str.contains('Matrix, The (1999)', case=False)]['movieId']\n"
     ]
    }
   ],
   "source": [
    "matrix_movie_id = movies_df[movies_df['title'].str.contains('Matrix, The (1999)', case=False)]['movieId']\n",
    "\n",
    "print(matrix_movie_id.unique())"
   ]
  },
  {
   "cell_type": "code",
   "execution_count": 8,
   "id": "f75acd59",
   "metadata": {},
   "outputs": [],
   "source": [
    "import pandas as pd\n",
    "import io\n",
    "\n",
    "tags_df = pd.read_csv('tags.csv')"
   ]
  },
  {
   "cell_type": "code",
   "execution_count": 9,
   "id": "dda88258",
   "metadata": {},
   "outputs": [
    {
     "name": "stdout",
     "output_type": "stream",
     "text": [
      "['martial arts' 'sci-fi' 'alternate universe' 'philosophy'\n",
      " 'post apocalyptic']\n"
     ]
    }
   ],
   "source": [
    "movie_id_matrix = 2571\n",
    "matrix_tags = tags_df[tags_df['movieId'] == movie_id_matrix]['tag']\n",
    "\n",
    "print(matrix_tags.unique())"
   ]
  },
  {
   "cell_type": "code",
   "execution_count": 10,
   "id": "b4a36f05",
   "metadata": {},
   "outputs": [
    {
     "name": "stdout",
     "output_type": "stream",
     "text": [
      "3.970982142857143\n"
     ]
    }
   ],
   "source": [
    "terminator_2_movie_id = movies_df[movies_df['title'] == 'Terminator 2: Judgment Day (1991)']['movieId'].iloc[0]\n",
    "\n",
    "terminator_2_ratings = ratings_df[ratings_df['movieId'] == terminator_2_movie_id]\n",
    "\n",
    "average_rating = terminator_2_ratings['rating'].mean()\n",
    "\n",
    "print(average_rating)"
   ]
  },
  {
   "cell_type": "code",
   "execution_count": 19,
   "id": "6edc5735",
   "metadata": {},
   "outputs": [
    {
     "data": {
      "image/png": "[encoded data removed]",
      "text/plain": [
       "<Figure size 800x500 with 1 Axes>"
      ]
     },
     "metadata": {},
     "output_type": "display_data"
    }
   ],
   "source": [
    "import matplotlib.pyplot as plt\n",
    "fight_club_movie_id = movies_df[movies_df['title'] == 'Fight Club (1999)']['movieId'].iloc[0]\n",
    "\n",
    "fight_club_ratings = ratings_df[ratings_df['movieId'] == fight_club_movie_id]\n",
    "\n",
    "plt.figure(figsize=(8, 5))\n",
    "plt.hist(fight_club_ratings['rating'], bins=10, color='pink', edgecolor='red')\n",
    "plt.title('Distribution of User Ratings for Fight Club (1999)')\n",
    "plt.xlabel('Rating')\n",
    "plt.ylabel('Frequency')\n",
    "plt.grid(True)\n",
    "plt.show()"
   ]
  },
  {
   "cell_type": "code",
   "execution_count": 12,
   "id": "ab43efb8",
   "metadata": {},
   "outputs": [],
   "source": [
    "grouped_ratings = ratings_df.groupby('movieId').agg({'rating': ['count', 'mean']}).reset_index()\n",
    "grouped_ratings.columns = ['movieId', 'rating_count', 'rating_mean']"
   ]
  },
  {
   "cell_type": "code",
   "execution_count": 13,
   "id": "e8da36fc",
   "metadata": {},
   "outputs": [
    {
     "name": "stdout",
     "output_type": "stream",
     "text": [
      "   movieId                    title  \\\n",
      "0        1         Toy Story (1995)   \n",
      "1        2           Jumanji (1995)   \n",
      "2        3  Grumpier Old Men (1995)   \n",
      "5        6              Heat (1995)   \n",
      "6        7           Sabrina (1995)   \n",
      "\n",
      "                                        genres  rating_count  rating_mean  \n",
      "0  Adventure|Animation|Children|Comedy|Fantasy           215     3.920930  \n",
      "1                   Adventure|Children|Fantasy           110     3.431818  \n",
      "2                               Comedy|Romance            52     3.259615  \n",
      "5                        Action|Crime|Thriller           102     3.946078  \n",
      "6                               Comedy|Romance            54     3.185185  \n"
     ]
    }
   ],
   "source": [
    "merged_df = pd.merge(movies_df, grouped_ratings, on='movieId', how='inner')\n",
    "\n",
    "filtered_df = merged_df[merged_df['rating_count'] > 50]\n",
    "\n",
    "print(filtered_df.head())"
   ]
  },
  {
   "cell_type": "code",
   "execution_count": 14,
   "id": "f4c3efa4",
   "metadata": {},
   "outputs": [
    {
     "name": "stdout",
     "output_type": "stream",
     "text": [
      "                                title  rating_mean\n",
      "277  Shawshank Redemption, The (1994)     4.429022\n"
     ]
    }
   ],
   "source": [
    "\n",
    "most_popular_movie = filtered_df[filtered_df['rating_mean'] == filtered_df['rating_mean'].max()]\n",
    "\n",
    "print(most_popular_movie[['title', 'rating_mean']])"
   ]
  },
  {
   "cell_type": "code",
   "execution_count": 15,
   "id": "5e24f4d6",
   "metadata": {},
   "outputs": [
    {
     "name": "stdout",
     "output_type": "stream",
     "text": [
      "                                 title  rating_count\n",
      "314                Forrest Gump (1994)           329\n",
      "277   Shawshank Redemption, The (1994)           317\n",
      "257                Pulp Fiction (1994)           307\n",
      "510   Silence of the Lambs, The (1991)           279\n",
      "1938                Matrix, The (1999)           278\n"
     ]
    }
   ],
   "source": [
    "top_5_popular_movies = filtered_df.sort_values(by='rating_count', ascending=False).head(5)\n",
    "\n",
    "print(top_5_popular_movies[['title', 'rating_count']])"
   ]
  },
  {
   "cell_type": "code",
   "execution_count": 16,
   "id": "ed79eed7",
   "metadata": {},
   "outputs": [
    {
     "name": "stdout",
     "output_type": "stream",
     "text": [
      "title           Jurassic Park (1993)\n",
      "rating_count                     238\n",
      "Name: 418, dtype: object\n"
     ]
    }
   ],
   "source": [
    "scifi_movies = filtered_df[filtered_df['genres'].str.contains('Sci-Fi')]\n",
    "\n",
    "sorted_scifi_movies = scifi_movies.sort_values(by='rating_count', ascending=False)\n",
    "\n",
    "third_most_popular_scifi_movie = sorted_scifi_movies.iloc[2]\n",
    "print(third_most_popular_scifi_movie[['title', 'rating_count']])"
   ]
  },
  {
   "cell_type": "code",
   "execution_count": 17,
   "id": "1cf83250",
   "metadata": {},
   "outputs": [
    {
     "name": "stdout",
     "output_type": "stream",
     "text": [
      "Unique tags for 'Matrix, The (1999)':\n",
      "['martial arts' 'sci-fi' 'alternate universe' 'philosophy'\n",
      " 'post apocalyptic']\n"
     ]
    }
   ],
   "source": [
    "matrix_movie_id = 2571\n",
    "matrix_tags = tags_df[tags_df['movieId'] == matrix_movie_id]['tag']\n",
    "\n",
    "print(\"Unique tags for 'Matrix, The (1999)':\")\n",
    "print(matrix_tags.unique())"
   ]
  },
  {
   "cell_type": "code",
   "execution_count": null,
   "id": "ef3a1cc1",
   "metadata": {},
   "outputs": [],
   "source": []
  }
 ],
 "metadata": {
  "kernelspec": {
   "display_name": "Python 3 (ipykernel)",
   "language": "python",
   "name": "python3"
  },
  "language_info": {
   "codemirror_mode": {
    "name": "ipython",
    "version": 3
   },
   "file_extension": ".py",
   "mimetype": "text/x-python",
   "name": "python",
   "nbconvert_exporter": "python",
   "pygments_lexer": "ipython3",
   "version": "3.9.13"
  }
 },
 "nbformat": 4,
 "nbformat_minor": 5
}
